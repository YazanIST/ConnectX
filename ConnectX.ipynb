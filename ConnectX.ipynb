{
 "cells": [
  {
   "cell_type": "markdown",
   "id": "d1de08db",
   "metadata": {},
   "source": [
    "# Imports:"
   ]
  },
  {
   "cell_type": "code",
   "execution_count": 1,
   "id": "893b3461",
   "metadata": {},
   "outputs": [
    {
     "name": "stdout",
     "output_type": "stream",
     "text": [
      "Loading environment lux_ai_s2 failed: No module named 'vec_noise'\n"
     ]
    }
   ],
   "source": [
    "from kaggle_environments import make, evaluate, agent, utils\n",
    "import numpy as np\n",
    "import random\n",
    "import sys"
   ]
  },
  {
   "cell_type": "markdown",
   "id": "c4972324",
   "metadata": {},
   "source": [
    "# Human Agent:\n",
    "This is to let a user play against an agent"
   ]
  },
  {
   "cell_type": "code",
   "execution_count": 2,
   "id": "0464e890",
   "metadata": {},
   "outputs": [],
   "source": [
    "def human_agent(obs, config):\n",
    "    import numpy as np\n",
    "    \n",
    "    board = np.asarray(obs.board).reshape(config.rows, config.columns)\n",
    "    valid_moves = [col for col in range(config.columns) if obs.board[col] == 0]\n",
    "    \n",
    "#     print(board)\n",
    "    while True:\n",
    "        move = int(input(board))\n",
    "        if move in valid_moves:\n",
    "            return move"
   ]
  },
  {
   "cell_type": "markdown",
   "id": "db61f94d",
   "metadata": {},
   "source": [
    "# Agent:"
   ]
  },
  {
   "cell_type": "markdown",
   "id": "2ca6ee44",
   "metadata": {},
   "source": [
    "We will list all things we need in our agents to make it more organized\n",
    "\n",
    "- **Parameters**:\n",
    "    - obs:\n",
    "        - `obs.board` - the game board (a Python list with one item for each grid location)\n",
    "        - `obs.mark` - the piece assigned to the agent (either 1 or 2)\n",
    "    - config\n",
    "        - `config.columns` - number of columns in the game board (7 for Connect Four)\n",
    "        - `config.rows` - number of rows in the game board (6 for Connect Four)\n",
    "        - `config.inarow` - number of pieces a player needs to get in a row in order to win (4 for Connect Four)\n",
    "\n",
    "- **Packages (Imports)**: numpy / random\n",
    "\n",
    "- **Variables**: SEARCH_DEPTH (Constant to limit the minimax search depth)\n",
    "\n",
    "- **Methods**:\n",
    "    - `get_next_board` - method to get the resulting board when dropping a piece at a column.\n",
    "    - `check_window` - check if a given window (list) has a freq(mark) == disk-count, and all other list elements are 0, if yes, it returns true, and returns false otherwise.\n",
    "    - `count_horizontal` - count the horizontal windows that meets condition of `check_window` for given disk-count\n",
    "    - `count_vertical` - count the vertical windows that meets condition of `check_window` for given disk-count\n",
    "    - `count_diagonal` - count the diagonal windows that meets condition of `check_window` for given disk-count\n",
    "    - `count_antidiagonal` - count the anti-diagonal windows that meets condition of `check_window` for given disk-count\n",
    "    - `count_matches` - finds the count of matches for all kind of windows (horizontal / vertical / diagonal / anti-diagonal) to a given disk-count\n",
    "    - `is_leaf / is_terminal` - check if the given state (board) is terminal (game ends on this board)\n",
    "    - `evaluate` - evaluates the given state (board) according to a heuristic fuction\n",
    "    - `minimax` - runs the minimax algorithim with alpha-beta pruning\n",
    "    - `get_best_move` - acts as a main method"
   ]
  },
  {
   "cell_type": "code",
   "execution_count": 3,
   "id": "3582a194",
   "metadata": {},
   "outputs": [],
   "source": [
    "def my_agent(obs, config):\n",
    "    import numpy as np\n",
    "    import random\n",
    "    import sys\n",
    "    \n",
    "    SEARCH_DEPTH = 5\n",
    "    MOD = int(1e9) + 7\n",
    "    memo = {}\n",
    "    freq = {}\n",
    "    \n",
    "    def add_undermod(a, b):\n",
    "        return (a + b) % MOD\n",
    "    \n",
    "    def hash_board(board, config):\n",
    "        index = 0\n",
    "        ret = 0\n",
    "        for row in range(config.rows):\n",
    "            for col in range(config.columns):\n",
    "                if board[row][col] == 1:\n",
    "                    ret = add_undermod(ret, pow(5, index, MOD))\n",
    "                elif board[row][col] == 2:\n",
    "                    ret = add_undermod(ret, pow(13, index, MOD))\n",
    "                index += 1\n",
    "        return ret\n",
    "                    \n",
    "    def get_next_board(board, col, mark, config):\n",
    "        next_board = board.copy()\n",
    "        for row in range(config.rows - 1, -1, -1):\n",
    "            if next_board[row][col] == 0:\n",
    "                next_board[row][col] = mark\n",
    "                return next_board\n",
    "        assert False, \"The given move is invalid, the column is full!\"\n",
    "    \n",
    "    def check_window(window, disk_count, mark, config):\n",
    "        return window.count(mark) == disk_count and window.count(0) == config.inarow - disk_count\n",
    "    \n",
    "    def count_horizontal(board, disk_count, mark, config):\n",
    "        ret = 0\n",
    "        for row in range(config.rows):\n",
    "            for col in range(config.columns - config.inarow + 1):\n",
    "                window = list(board[row, col : col + config.inarow])\n",
    "                if check_window(window, disk_count, mark, config):\n",
    "                    ret += 1\n",
    "        return ret\n",
    "    \n",
    "    def count_vertical(board, disk_count, mark, config):\n",
    "        ret = 0\n",
    "        for row in range(config.rows - config.inarow + 1):\n",
    "            for col in range(config.columns):\n",
    "                window = list(board[row : row + config.inarow, col])\n",
    "                if check_window(window, disk_count, mark, config):\n",
    "                    ret += 1\n",
    "        return ret\n",
    "    \n",
    "    def count_diagonal(board, disk_count, mark, config):\n",
    "        ret = 0\n",
    "        for row in range(config.rows - config.inarow + 1):\n",
    "            for col in range(config.columns - config.inarow + 1):\n",
    "                window = list(board[range(row, row + config.inarow), range(col, col + config.inarow)])\n",
    "                if check_window(window, disk_count, mark, config):\n",
    "                    ret += 1\n",
    "        return ret\n",
    "    \n",
    "    def count_antidiagonal(board, disk_count, mark, config):\n",
    "        ret = 0\n",
    "        for row in range(config.rows - config.inarow + 1):\n",
    "            for col in range(config.columns - config.inarow + 1):\n",
    "                window = list(board[range(row + config.inarow - 1, row - 1, -1), range(col, col + config.inarow)])\n",
    "                if check_window(window, disk_count, mark, config):\n",
    "                    ret += 1\n",
    "        return ret\n",
    "    \n",
    "    def count_matches(board, disk_count, mark, config):\n",
    "        return count_horizontal(board, disk_count, mark, config) + \\\n",
    "                count_vertical(board, disk_count, mark, config) + \\\n",
    "                count_diagonal(board, disk_count, mark, config) + \\\n",
    "                count_antidiagonal(board, disk_count, mark, config)\n",
    "    \n",
    "    def is_terminal(board, config):\n",
    "        if list(board[0]).count(0) == 0:\n",
    "            return True\n",
    "        for mark in [1, 2]:\n",
    "            if count_matches(board, config.inarow, mark, config) > 0:\n",
    "                return True\n",
    "        return False\n",
    "    \n",
    "    def evaluate(board, agent_mark, config):\n",
    "        a = count_matches(board, 3, agent_mark, config)\n",
    "        b = count_matches(board, 4, agent_mark, config)\n",
    "        c = count_matches(board, 3, agent_mark % 2 + 1, config)\n",
    "        d = count_matches(board, 4, agent_mark % 2 + 1, config)\n",
    "#         original_stdout = sys.stdout\n",
    "#         with open('debug.txt', 'a') as f:\n",
    "#             sys.stdout = f\n",
    "#             for y in board:\n",
    "#                 for x in y:\n",
    "#                     print(x, end = ' ')\n",
    "#             print()\n",
    "#             print(a, b, c, d)\n",
    "#             sys.stdout = original_stdout\n",
    "        return a + b * 1e6 - c * 1e2 - d * 1e4\n",
    "    \n",
    "    def minimax(board, depth, agent_mark, is_maximizing, alpha, beta, config):\n",
    "        if depth == 0 or is_terminal(board, config):\n",
    "            return evaluate(board, obs.mark, config)\n",
    "        \n",
    "        hash = hash_board(board, config)\n",
    "        if hash in memo:\n",
    "            freq[hash] += 1\n",
    "            return memo[hash]\n",
    "        \n",
    "        valid_moves = [col for col in range(config.columns) if board[0][col] == 0]\n",
    "        ret = 0\n",
    "        if is_maximizing:\n",
    "            ret = -np.Inf\n",
    "            for col in valid_moves:\n",
    "                next_board = get_next_board(board, col, agent_mark % 2 + 1, config)\n",
    "                ret = max(ret, minimax(next_board, depth - 1, agent_mark, False, alpha, beta, config))\n",
    "                if ret >= beta:\n",
    "                    return ret\n",
    "                alpha = max(alpha, ret)\n",
    "        else:\n",
    "            ret = np.Inf\n",
    "            for col in valid_moves:\n",
    "                next_board = get_next_board(board, col, agent_mark, config)\n",
    "                ret = min(ret, minimax(next_board, depth - 1, agent_mark, True, alpha, beta, config))\n",
    "                if alpha >= ret:\n",
    "                    return ret\n",
    "                beta = min(beta, ret)\n",
    "        \n",
    "        memo[hash] = ret\n",
    "        freq[hash] = 1\n",
    "        return ret\n",
    "    \n",
    "    # make sure about this method tmw\n",
    "    def get_best_move(obs, config):\n",
    "        valid_moves = [col for col in range(config.columns) if obs.board[col] == 0]\n",
    "        board = np.asarray(obs.board).reshape(config.rows, config.columns)\n",
    "        scores = [minimax(get_next_board(board, col, obs.mark, config), SEARCH_DEPTH - 1, obs.mark % 2 + 1, False, -1e18, 1e18, config) for col in valid_moves]\n",
    "        max_score = max(scores)\n",
    "        best_moves = [valid_moves[index] for index in range(len(valid_moves)) if scores[index] == max_score]\n",
    "        dis = [abs(3 - index) for index in best_moves]\n",
    "        minDis = min(dis)\n",
    "        for i in range(len(best_moves)):\n",
    "            if minDis == dis[i]:\n",
    "                return best_moves[i]\n",
    "#         return random.choice(best_moves)\n",
    "    \n",
    "    return get_best_move(obs, config)"
   ]
  },
  {
   "cell_type": "markdown",
   "id": "03d03ac2",
   "metadata": {},
   "source": [
    "# Create a submission file"
   ]
  },
  {
   "cell_type": "code",
   "execution_count": 4,
   "id": "941ca83a",
   "metadata": {},
   "outputs": [
    {
     "name": "stdout",
     "output_type": "stream",
     "text": [
      "<function my_agent at 0x7f37f40eb370> written to submission.py\n"
     ]
    }
   ],
   "source": [
    "import inspect\n",
    "import os\n",
    "\n",
    "def write_agent_to_file(function, file):\n",
    "    with open(file, \"w\") as f:\n",
    "        f.write(inspect.getsource(function))\n",
    "        print(function, \"written to\", file)\n",
    "\n",
    "write_agent_to_file(my_agent, \"submission.py\")"
   ]
  },
  {
   "cell_type": "markdown",
   "id": "a042d5c6",
   "metadata": {},
   "source": [
    "# Validate your submission file"
   ]
  },
  {
   "cell_type": "code",
   "execution_count": 6,
   "id": "ed939d5e",
   "metadata": {
    "scrolled": true
   },
   "outputs": [
    {
     "name": "stdout",
     "output_type": "stream",
     "text": [
      "Success!\n"
     ]
    }
   ],
   "source": [
    "import sys\n",
    "from kaggle_environments import utils, agent\n",
    "\n",
    "out = sys.stdout\n",
    "submission = utils.read_file(\"./submission.py\")\n",
    "agent = agent.get_last_callable(submission, path=submission)\n",
    "sys.stdout = out\n",
    "\n",
    "env = make(\"connectx\", debug=True)\n",
    "env.run([agent, agent])\n",
    "print(\"Success!\" if env.state[0].status == env.state[1].status == \"DONE\" else \"Failed...\")"
   ]
  },
  {
   "cell_type": "markdown",
   "id": "21554c23",
   "metadata": {},
   "source": [
    "# Testing and play the game"
   ]
  },
  {
   "cell_type": "code",
   "execution_count": null,
   "id": "fae82bec",
   "metadata": {
    "scrolled": true
   },
   "outputs": [],
   "source": [
    "env = make(\"connectx\", debug=True)\n",
    "# env.run([my_agent, 'random'])\n",
    "env.run(['negamax', my_agent])\n",
    "# env.run([my_agent, human_agent])\n",
    "env.render(mode=\"ipython\")"
   ]
  },
  {
   "cell_type": "markdown",
   "id": "c2d84f04",
   "metadata": {},
   "source": [
    "0 0 0 0 0 0 0 0 0 0 2 0 0 0 0 0 0 1 1 0 0 0 0 0 1 1 0 2 0 0 0 1 2 0 2 0 1 0 2 1 0 2"
   ]
  },
  {
   "cell_type": "markdown",
   "id": "a48bad4d",
   "metadata": {},
   "source": [
    "# Get Win Percentage"
   ]
  },
  {
   "cell_type": "code",
   "execution_count": 108,
   "id": "1d6dad67",
   "metadata": {},
   "outputs": [],
   "source": [
    "def get_win_percentages(agent1, agent2, n_rounds=100):\n",
    "    # Use default Connect Four setup\n",
    "    config = {'rows': 6, 'columns': 7, 'inarow': 4}\n",
    "    # Agent 1 goes first (roughly) half the time          \n",
    "    outcomes = evaluate(\"connectx\", [agent1, agent2], config, [], n_rounds//2)\n",
    "    # Agent 2 goes first (roughly) half the time      \n",
    "    outcomes += [[b,a] for [a,b] in evaluate(\"connectx\", [agent2, agent1], config, [], n_rounds-n_rounds//2)]\n",
    "    print(\"Agent 1 Win Percentage:\", np.round(outcomes.count([1,-1])/len(outcomes), 2))\n",
    "    print(\"Agent 2 Win Percentage:\", np.round(outcomes.count([-1,1])/len(outcomes), 2))\n",
    "    print(\"Number of Invalid Plays by Agent 1:\", outcomes.count([None, 0]))\n",
    "    print(\"Number of Invalid Plays by Agent 2:\", outcomes.count([0, None]))"
   ]
  },
  {
   "cell_type": "code",
   "execution_count": 113,
   "id": "dd6217ad",
   "metadata": {},
   "outputs": [
    {
     "name": "stdout",
     "output_type": "stream",
     "text": [
      "Agent 1 Win Percentage: 1.0\n",
      "Agent 2 Win Percentage: 0.0\n",
      "Number of Invalid Plays by Agent 1: 0\n",
      "Number of Invalid Plays by Agent 2: 0\n"
     ]
    }
   ],
   "source": [
    "get_win_percentages(agent1=my_agent, agent2=\"random\", n_rounds=20)"
   ]
  },
  {
   "cell_type": "code",
   "execution_count": 160,
   "id": "b008f8fe",
   "metadata": {},
   "outputs": [
    {
     "name": "stdout",
     "output_type": "stream",
     "text": [
      "Agent 1 Win Percentage: 0.85\n",
      "Agent 2 Win Percentage: 0.0\n",
      "Number of Invalid Plays by Agent 1: 0\n",
      "Number of Invalid Plays by Agent 2: 0\n"
     ]
    }
   ],
   "source": [
    "get_win_percentages(agent1=my_agent, agent2=\"negamax\", n_rounds=20)"
   ]
  },
  {
   "cell_type": "code",
   "execution_count": null,
   "id": "f1d1db1d",
   "metadata": {},
   "outputs": [],
   "source": []
  }
 ],
 "metadata": {
  "kernelspec": {
   "display_name": "Python 3 (ipykernel)",
   "language": "python",
   "name": "python3"
  },
  "language_info": {
   "codemirror_mode": {
    "name": "ipython",
    "version": 3
   },
   "file_extension": ".py",
   "mimetype": "text/x-python",
   "name": "python",
   "nbconvert_exporter": "python",
   "pygments_lexer": "ipython3",
   "version": "3.10.10"
  }
 },
 "nbformat": 4,
 "nbformat_minor": 5
}
